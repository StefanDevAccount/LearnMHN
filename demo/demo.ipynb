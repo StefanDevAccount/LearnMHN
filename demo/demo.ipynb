{
 "cells": [
  {
   "cell_type": "markdown",
   "metadata": {},
   "source": [
    "# `mhn` Demonstration\n",
    "\n",
    "In this notebook, we will demonstrate a basic workflow for using the `mhn` python package. As exemplary data, we use somatic mutations in 12 driver genes of lung cancer patients. A similar analysis has been conducted on the same dataset in the publication __[Overcoming Observation Bias for Cancer Progression Modeling](https://www.biorxiv.org/content/10.1101/2023.12.03.569824v1)__ and was originally obtained through __[AACR GENIE](https://doi.org/10.7303/syn51355584)__. \n",
    "\n",
    "In the following sections, we will\n",
    "1. [Check the necessary installations](#confirming-package-functionality)\n",
    "2. [Load and inspect input data](#loading-and-inspecting-input-data)\n",
    "3. [Prepare for MHN training](#preparation-for-mhn-training)\n",
    "    1. [Choose a penalty](#choosing-the-regularization-penalty)\n",
    "    2. [Prepare for cross-validation](#choosing-the-regularization-penalty)\n",
    "    3. [Choose a processing device](#choosing-the-processing-device)\n",
    "4. [Execute MHN training with cross-validation](#executing-mhn-training)\n",
    "    1. [Perform cross-validation](#cross-validation)\n",
    "    2. [Train the final models](#final-model-training)\n",
    "5. [Inspect the primary MHN output - the Θ-matrix](#inspecting-the-θ-matrix)\n",
    "6. [Reconstruct event orders](#reconstructing-event-orders)\n",
    "7. [Simulate artifical data from the trained models...](#simulating-artificial-data-from-a-mhn)\n",
    "8. [Make next-event predictions using MHN inferences](#predicting-the-next-event-for-a-given-mhn-state)"
   ]
  },
  {
   "cell_type": "markdown",
   "metadata": {},
   "source": [
    "## Confirming package functionality\n",
    "\n",
    "This notebook assumes that the package has been installed via `pip install mhn`. We can confirm the functionality of the installation with"
   ]
  },
  {
   "cell_type": "code",
   "execution_count": 172,
   "metadata": {},
   "outputs": [
    {
     "name": "stdout",
     "output_type": "stream",
     "text": [
      "mhn is installed\n"
     ]
    }
   ],
   "source": [
    "try:\n",
    "    import mhn\n",
    "    print(\"mhn is installed\")\n",
    "except ImportError:\n",
    "    print(\"mhn installation not found\")"
   ]
  },
  {
   "cell_type": "markdown",
   "metadata": {},
   "source": [
    "We can now make all MHN imports necessary for this notebook:"
   ]
  },
  {
   "cell_type": "code",
   "execution_count": 173,
   "metadata": {},
   "outputs": [],
   "source": [
    "from mhn.optimizers import Optimizer, Device"
   ]
  },
  {
   "cell_type": "markdown",
   "metadata": {},
   "source": [
    "If available, a Nvidia GPU may be used to accelerate MHN training. Apart from the GPU itself, this requires a functional installation of __[CUDA and the CUDA compiler nvcc](https://docs.nvidia.com/cuda/cuda-installation-guide-microsoft-windows/)__. This approach is optional and will be treated as such in the notebook. \n",
    "We can check if CUDA is available to MHN with"
   ]
  },
  {
   "cell_type": "code",
   "execution_count": 174,
   "metadata": {},
   "outputs": [
    {
     "name": "stdout",
     "output_type": "stream",
     "text": [
      "CUDA compiler nvcc was not present during installation\n"
     ]
    }
   ],
   "source": [
    "cuda_status = mhn.cuda_available()\n",
    "print(cuda_status)"
   ]
  },
  {
   "cell_type": "markdown",
   "metadata": {},
   "source": [
    "## Inspecting and loading input data\n",
    "\n",
    "We now import the lung adenocarcinoma dataset. MHN expects a binary matrix (containing only 0s and 1s), with rows representing individual observations (e.g., patients/tumors), columns representing individual events (e.g., per-gene mutations) and cells representing the presence or absence (1s or 0s) of the respective event in the respective observation. Event identifiers may be given as column names. To inspect the input data, we can load it with"
   ]
  },
  {
   "cell_type": "code",
   "execution_count": 175,
   "metadata": {},
   "outputs": [
    {
     "data": {
      "text/html": [
       "<div>\n",
       "<style scoped>\n",
       "    .dataframe tbody tr th:only-of-type {\n",
       "        vertical-align: middle;\n",
       "    }\n",
       "\n",
       "    .dataframe tbody tr th {\n",
       "        vertical-align: top;\n",
       "    }\n",
       "\n",
       "    .dataframe thead th {\n",
       "        text-align: right;\n",
       "    }\n",
       "</style>\n",
       "<table border=\"1\" class=\"dataframe\">\n",
       "  <thead>\n",
       "    <tr style=\"text-align: right;\">\n",
       "      <th></th>\n",
       "      <th>TP53</th>\n",
       "      <th>KRAS</th>\n",
       "      <th>EGFR</th>\n",
       "      <th>STK11</th>\n",
       "      <th>RBM10</th>\n",
       "      <th>KEAP1</th>\n",
       "      <th>ATM</th>\n",
       "      <th>SMARCA4</th>\n",
       "      <th>PTPRD</th>\n",
       "      <th>NF1</th>\n",
       "      <th>PIK3CA</th>\n",
       "      <th>BRAF</th>\n",
       "    </tr>\n",
       "  </thead>\n",
       "  <tbody>\n",
       "    <tr>\n",
       "      <th>0</th>\n",
       "      <td>1</td>\n",
       "      <td>0</td>\n",
       "      <td>0</td>\n",
       "      <td>0</td>\n",
       "      <td>0</td>\n",
       "      <td>0</td>\n",
       "      <td>0</td>\n",
       "      <td>0</td>\n",
       "      <td>0</td>\n",
       "      <td>0</td>\n",
       "      <td>0</td>\n",
       "      <td>0</td>\n",
       "    </tr>\n",
       "    <tr>\n",
       "      <th>1</th>\n",
       "      <td>1</td>\n",
       "      <td>1</td>\n",
       "      <td>0</td>\n",
       "      <td>0</td>\n",
       "      <td>0</td>\n",
       "      <td>0</td>\n",
       "      <td>0</td>\n",
       "      <td>0</td>\n",
       "      <td>0</td>\n",
       "      <td>0</td>\n",
       "      <td>0</td>\n",
       "      <td>0</td>\n",
       "    </tr>\n",
       "    <tr>\n",
       "      <th>2</th>\n",
       "      <td>1</td>\n",
       "      <td>0</td>\n",
       "      <td>0</td>\n",
       "      <td>0</td>\n",
       "      <td>0</td>\n",
       "      <td>0</td>\n",
       "      <td>0</td>\n",
       "      <td>0</td>\n",
       "      <td>1</td>\n",
       "      <td>0</td>\n",
       "      <td>0</td>\n",
       "      <td>0</td>\n",
       "    </tr>\n",
       "    <tr>\n",
       "      <th>3</th>\n",
       "      <td>1</td>\n",
       "      <td>0</td>\n",
       "      <td>0</td>\n",
       "      <td>0</td>\n",
       "      <td>0</td>\n",
       "      <td>0</td>\n",
       "      <td>0</td>\n",
       "      <td>0</td>\n",
       "      <td>0</td>\n",
       "      <td>0</td>\n",
       "      <td>1</td>\n",
       "      <td>0</td>\n",
       "    </tr>\n",
       "    <tr>\n",
       "      <th>4</th>\n",
       "      <td>1</td>\n",
       "      <td>0</td>\n",
       "      <td>1</td>\n",
       "      <td>0</td>\n",
       "      <td>0</td>\n",
       "      <td>0</td>\n",
       "      <td>0</td>\n",
       "      <td>0</td>\n",
       "      <td>0</td>\n",
       "      <td>0</td>\n",
       "      <td>0</td>\n",
       "      <td>0</td>\n",
       "    </tr>\n",
       "  </tbody>\n",
       "</table>\n",
       "</div>"
      ],
      "text/plain": [
       "   TP53  KRAS  EGFR  STK11  RBM10  KEAP1  ATM  SMARCA4  PTPRD  NF1  PIK3CA  \\\n",
       "0     1     0     0      0      0      0    0        0      0    0       0   \n",
       "1     1     1     0      0      0      0    0        0      0    0       0   \n",
       "2     1     0     0      0      0      0    0        0      1    0       0   \n",
       "3     1     0     0      0      0      0    0        0      0    0       1   \n",
       "4     1     0     1      0      0      0    0        0      0    0       0   \n",
       "\n",
       "   BRAF  \n",
       "0     0  \n",
       "1     0  \n",
       "2     0  \n",
       "3     0  \n",
       "4     0  "
      ]
     },
     "execution_count": 175,
     "metadata": {},
     "output_type": "execute_result"
    }
   ],
   "source": [
    "import pandas as pd\n",
    "input = pd.read_csv('LUAD_n12.csv')\n",
    "input.head()"
   ]
  },
  {
   "cell_type": "markdown",
   "metadata": {},
   "source": [
    "Let us now inspect some basic data stats"
   ]
  },
  {
   "cell_type": "code",
   "execution_count": 176,
   "metadata": {},
   "outputs": [
    {
     "name": "stdout",
     "output_type": "stream",
     "text": [
      "Number of observations: 3662\n",
      "Number of events: 12\n"
     ]
    }
   ],
   "source": [
    "print(\"Number of observations:\", len(input))\n",
    "print(\"Number of events:\", len(input.columns))"
   ]
  },
  {
   "cell_type": "code",
   "execution_count": 177,
   "metadata": {},
   "outputs": [
    {
     "name": "stdout",
     "output_type": "stream",
     "text": [
      "Event frequencies:\n"
     ]
    },
    {
     "data": {
      "text/plain": [
       "TP53       0.410705\n",
       "KRAS       0.341344\n",
       "EGFR       0.279902\n",
       "STK11      0.141999\n",
       "RBM10      0.118788\n",
       "KEAP1      0.103768\n",
       "ATM        0.059803\n",
       "SMARCA4    0.058711\n",
       "PTPRD      0.057619\n",
       "NF1        0.057073\n",
       "PIK3CA     0.049153\n",
       "BRAF       0.048334\n",
       "dtype: float64"
      ]
     },
     "execution_count": 177,
     "metadata": {},
     "output_type": "execute_result"
    }
   ],
   "source": [
    "print(\"Event frequencies:\")\n",
    "input.sum(axis=0) / len(input)"
   ]
  },
  {
   "cell_type": "code",
   "execution_count": 178,
   "metadata": {},
   "outputs": [
    {
     "name": "stdout",
     "output_type": "stream",
     "text": [
      "Distribution of active event counts across observations:\n"
     ]
    },
    {
     "data": {
      "text/plain": [
       "0     477\n",
       "1    1086\n",
       "2    1327\n",
       "3     550\n",
       "4     180\n",
       "5      37\n",
       "6       5\n",
       "Name: count, dtype: int64"
      ]
     },
     "execution_count": 178,
     "metadata": {},
     "output_type": "execute_result"
    }
   ],
   "source": [
    "print(\"Distribution of active event counts across observations:\")\n",
    "input.sum(axis=1).value_counts().sort_index()"
   ]
  },
  {
   "cell_type": "markdown",
   "metadata": {},
   "source": [
    "The dataset is a little large to be used completely in this notebook, so let's only take a part of the data:"
   ]
  },
  {
   "cell_type": "code",
   "execution_count": 179,
   "metadata": {},
   "outputs": [
    {
     "data": {
      "text/plain": [
       "0     72\n",
       "1    137\n",
       "2    186\n",
       "3     68\n",
       "4     27\n",
       "5     10\n",
       "Name: count, dtype: int64"
      ]
     },
     "execution_count": 179,
     "metadata": {},
     "output_type": "execute_result"
    }
   ],
   "source": [
    "import random\n",
    "input_subset = input.sample(n=500, random_state=6)\n",
    "input_subset.sum(axis=1).value_counts().sort_index()"
   ]
  },
  {
   "cell_type": "markdown",
   "metadata": {},
   "source": [
    "## Preparation for MHN training\n",
    "\n",
    "In preparation for MHN training, one has to make a few decisions regarding the model framework and cross-validation strategies. We will now guide through these decisions step by step. Afterwards, the actual training process, including cross-validation, will be two simple lines of code.\n",
    "\n",
    "We will show the training of an observation-aware MHN as discussed in __[Schill et al. 2024](https://www.biorxiv.org/content/10.1101/2023.12.03.569824v1)__."
   ]
  },
  {
   "cell_type": "code",
   "execution_count": 180,
   "metadata": {},
   "outputs": [],
   "source": [
    "opt = Optimizer()"
   ]
  },
  {
   "cell_type": "markdown",
   "metadata": {},
   "source": [
    "Once we have initialised the optimizer object, we can give it the input dataframe:"
   ]
  },
  {
   "cell_type": "code",
   "execution_count": 181,
   "metadata": {},
   "outputs": [
    {
     "data": {
      "text/plain": [
       "<mhn.optimizers.oMHNOptimizer at 0x1c299bad950>"
      ]
     },
     "execution_count": 181,
     "metadata": {},
     "output_type": "execute_result"
    }
   ],
   "source": [
    "# load data for the oMHN framework\n",
    "opt.load_data_matrix(input_subset)"
   ]
  },
  {
   "cell_type": "markdown",
   "metadata": {},
   "source": [
    "Alternatively, we could have used the `load_data_from_csv()` function to load the input data directly from a .csv."
   ]
  },
  {
   "cell_type": "markdown",
   "metadata": {},
   "source": [
    "### Choosing the regularization penalty\n",
    "\n",
    "Like most machine learning models, MHN uses regularization during the training process. In brief, regularization means penalising the parameter inference so that a sparse (parsimonious) set of parameters is generally preferred. In other words, it aims at explaining the training input data well, with as little parameters as possible, to keep the model generalisable to test data. While the *strength* of the regularization penalty is determined later during cross-validation, we now have to decide on the *form* of regularization. <br><br>\n",
    "There are two forms of penalty currently implemented for MHN, a **standard L1-penalty** and a **custom symmetrical penalty**. The L1-penalty is a standard approach in machine learning and keeps each parameter uniformly close to 0. In contrast, the symmetrical penalty restricts pairs of parameters simultaneously, specifically pairs which are symmetrical in Θ with respect to the diagonal. Having one such pair of parameters at a nonzero value is as costly as having only one of them at the same value. This is further discussed in __[Schill et al. 2024](https://www.biorxiv.org/content/10.1101/2023.12.03.569824v1)__. **We recommend to choose the penalty based on prior knowledge about the structure of effects that are expected in the type of data one is working with. For mutational data as in this notebook, we recommend the symmetrical penalty as it is likely more in line with the nature of epistatic effects between driver mutations.**\n",
    "Note that both penalties **do not include the base rates**, i.e., the parameters on the diagonal of the parameter matrix will not be regularized at all.<br><br>\n",
    "In terms of code, this decision is made by calling the respective penalty-setting function. In our example, we set the symmetrical penalty:"
   ]
  },
  {
   "cell_type": "code",
   "execution_count": 182,
   "metadata": {},
   "outputs": [
    {
     "data": {
      "text/plain": [
       "<mhn.optimizers.oMHNOptimizer at 0x1c299bad950>"
      ]
     },
     "execution_count": 182,
     "metadata": {},
     "output_type": "execute_result"
    }
   ],
   "source": [
    "opt.set_penalty(opt.Penalty.SYM_SPARSE)"
   ]
  },
  {
   "cell_type": "markdown",
   "metadata": {},
   "source": [
    "### Choosing cross-validation hyperparameters\n",
    "\n",
    "In cross-validation, a range of different regularization penalty strengths (\"lambdas\") will be tested to identify one which yields optimal performance on holdout data. Here, we have to decide on some hyperparameters:\n",
    "- The minimum and maximum penalty strength (\"lambda\") to be tested\n",
    "- The amount of steps (i.e., length of the lambda sequence) to take between these limits\n",
    "- The amount of folds we want to split our data into for cross-validation\n",
    "\n",
    "Generally, a large range with small step size and many folds will yield the most accurate results while increasing computation time. For the purpose of this demonstration however, we will pick values that are easy on the computation. "
   ]
  },
  {
   "cell_type": "markdown",
   "metadata": {},
   "source": [
    "Generally, one can expect that 1 divided by the number of observations will yield a decent cross-validation result, so we can design our minimum and maximum values around it:"
   ]
  },
  {
   "cell_type": "code",
   "execution_count": 183,
   "metadata": {},
   "outputs": [
    {
     "name": "stdout",
     "output_type": "stream",
     "text": [
      "Minimum lambda: 0.0002\n",
      "Maximum lambda: 0.2\n"
     ]
    }
   ],
   "source": [
    "lambda_min = 0.1/len(input_subset)\n",
    "lambda_max = 100/len(input_subset)\n",
    "\n",
    "print(\"Minimum lambda:\", lambda_min)\n",
    "print(\"Maximum lambda:\", lambda_max)"
   ]
  },
  {
   "cell_type": "markdown",
   "metadata": {},
   "source": [
    "The more steps in between min/max, the more accuate the cross-validation will be within the given limits. However, here we pick a small amount to keep computation time low:"
   ]
  },
  {
   "cell_type": "code",
   "execution_count": 184,
   "metadata": {},
   "outputs": [],
   "source": [
    "n_cv_steps = 5"
   ]
  },
  {
   "cell_type": "markdown",
   "metadata": {},
   "source": [
    "When provided with min/max values and a number of steps, MHN's cross-validation will run with the respective number of intermediate lambda values, spaced equidistantly on a log scale. Alternatively, one specify all values, including intermediate steps. For the purpose of this demonstration, we will explicitely specify the full range albeit using default MHN behavior: "
   ]
  },
  {
   "cell_type": "code",
   "execution_count": 185,
   "metadata": {},
   "outputs": [
    {
     "name": "stdout",
     "output_type": "stream",
     "text": [
      "Lambda sequence:\n"
     ]
    },
    {
     "data": {
      "text/plain": [
       "array([0.0002    , 0.00112468, 0.00632456, 0.03556559, 0.2       ])"
      ]
     },
     "execution_count": 185,
     "metadata": {},
     "output_type": "execute_result"
    }
   ],
   "source": [
    "import numpy as np\n",
    "\n",
    "lambda_sequence = np.exp(np.linspace(\n",
    "    np.log(lambda_min + 1e-10), np.log(lambda_max + 1e-10), n_cv_steps))\n",
    "\n",
    "print(\"Lambda sequence:\")\n",
    "lambda_sequence"
   ]
  },
  {
   "cell_type": "markdown",
   "metadata": {},
   "source": [
    "Lastly, we have to define the number of cross-validation folds. For this demonstration, we will just do 3 folds:"
   ]
  },
  {
   "cell_type": "code",
   "execution_count": 186,
   "metadata": {},
   "outputs": [],
   "source": [
    "n_cv_folds = 3"
   ]
  },
  {
   "cell_type": "markdown",
   "metadata": {},
   "source": [
    "### Choosing the processing device\n",
    "\n",
    "As the last step before training, we have to make a purely technical decision: If our device has a Nvidia GPU and CUDA is installed, we can opt to perform (some of) the intensive computing on the GPU. This may yield significant speedup, especially of our input matrix is densely populated with 1s. If our device does not have this capability, we can simply use the CPU instead. The default behavior of MHN is to use the GPU only for parts of the data where it is likely beneficial. <br><br>\n",
    "\n",
    "To ensure accessibility, we will opt for CPU-only in this demonstration:"
   ]
  },
  {
   "cell_type": "code",
   "execution_count": 187,
   "metadata": {},
   "outputs": [
    {
     "data": {
      "text/plain": [
       "<mhn.optimizers.oMHNOptimizer at 0x1c299bad950>"
      ]
     },
     "execution_count": 187,
     "metadata": {},
     "output_type": "execute_result"
    }
   ],
   "source": [
    "# uses both CPU and GPU depending on the number of mutations in the individual sample (default)\n",
    "# opt.set_device(Device.AUTO)\n",
    "\n",
    "# use the GPU to compute log-likelihood score and gradient\n",
    "# opt.set_device(Device.GPU)\n",
    "\n",
    "# use the CPU to compute log-likelihood score and gradient\n",
    "opt.set_device(Device.CPU)"
   ]
  },
  {
   "cell_type": "markdown",
   "metadata": {},
   "source": [
    "## Executing MHN training"
   ]
  },
  {
   "cell_type": "markdown",
   "metadata": {},
   "source": [
    "### Cross-validation\n",
    "Once our preparation is done, we can call the `lambda_from_cv()` function to perform the cross-validation, providing the previously set parameters. To reiterate, we have the option of either providing an explicit sequence of lambdas or defining min, max and a number of steps. Furthermore, we specify the number of cross-validation folds and whether we want a progress tracker:"
   ]
  },
  {
   "cell_type": "code",
   "execution_count": 188,
   "metadata": {},
   "outputs": [
    {
     "name": "stderr",
     "output_type": "stream",
     "text": [
      "Cross-Validation Folds: 100%|██████████| 3/3 [00:22<00:00,  7.66s/it]\n"
     ]
    }
   ],
   "source": [
    "np.random.seed(6)\n",
    "opt_lam, lambda_scores = opt.lambda_from_cv(\n",
    "    lambda_min=lambda_min, lambda_max=lambda_max, steps=n_cv_steps, nfolds=n_cv_folds, show_progressbar=True, return_lambda_scores=True)"
   ]
  },
  {
   "cell_type": "markdown",
   "metadata": {},
   "source": [
    "When cross-validation has finished, let's see where in the given sequence our optimal lambdas are located (having them at the extremes may indicate that the sequence needs to be adjusted):"
   ]
  },
  {
   "cell_type": "code",
   "execution_count": 189,
   "metadata": {},
   "outputs": [
    {
     "data": {
      "text/plain": [
       "Text(0, 0.5, 'mean log-likelihood')"
      ]
     },
     "execution_count": 189,
     "metadata": {},
     "output_type": "execute_result"
    },
    {
     "data": {
      "image/png": "[encoded data removed]",
      "text/plain": [
       "<Figure size 640x480 with 1 Axes>"
      ]
     },
     "metadata": {},
     "output_type": "display_data"
    }
   ],
   "source": [
    "import matplotlib.pyplot as plt\n",
    "\n",
    "# plot cross-validated lambdas\n",
    "plt.scatter(lambda_scores[\"Lambda Value\"],\n",
    "            lambda_scores[\"Mean Score\"], color='black')\n",
    "plt.errorbar(lambda_scores[\"Lambda Value\"], lambda_scores[\"Mean Score\"],\n",
    "             yerr=lambda_scores[\"Standard Error\"], color='black')\n",
    "\n",
    "# annotate optimal lambda\n",
    "plt.text(opt_lam, lambda_scores[lambda_scores[\"Lambda Value\"] ==\n",
    "                                    opt_lam][\"Mean Score\"].values[0], \"optimal lambda\", va='bottom', ha='left', color=\"grey\", )\n",
    "\n",
    "# log scale\n",
    "plt.xscale('log')\n",
    "# plt.yticks([])\n",
    "plt.xlabel('lambda')\n",
    "plt.ylabel('mean log-likelihood')"
   ]
  },
  {
   "cell_type": "markdown",
   "metadata": {},
   "source": [
    "### Final model training"
   ]
  },
  {
   "cell_type": "markdown",
   "metadata": {},
   "source": [
    "We can now train the final models, using the optimal lambdas from cross-validation we have just confirmed. Then, we'll save the main output, the Θ-matrix, as .csv file, alongside a log file in .json format."
   ]
  },
  {
   "cell_type": "code",
   "execution_count": 190,
   "metadata": {},
   "outputs": [],
   "source": [
    "# train oMHN\n",
    "opt.train(lam=opt_lam)\n",
    "# save output\n",
    "opt.result.save(filename=\"MHN.csv\")"
   ]
  },
  {
   "cell_type": "markdown",
   "metadata": {},
   "source": [
    "Let's inspect the outputs. First, let's look at the log files which tell us about important technical details of the training process:"
   ]
  },
  {
   "cell_type": "code",
   "execution_count": 191,
   "metadata": {},
   "outputs": [
    {
     "name": "stdout",
     "output_type": "stream",
     "text": [
      "{'init': None,\n",
      " 'lambda': 0.006324556903056528,\n",
      " 'maxit': 5000,\n",
      " 'message': 'CONVERGENCE: REL_REDUCTION_OF_F_<=_FACTR*EPSMCH',\n",
      " 'nit': 146,\n",
      " 'reltol': 1e-07,\n",
      " 'score': 4.081817807465798,\n",
      " 'status': 0}\n"
     ]
    }
   ],
   "source": [
    "import json\n",
    "import pprint\n",
    "\n",
    "with open('MHN_meta.json') as f:\n",
    "    MHN_log = json.load(f)\n",
    "\n",
    "pprint.pprint(MHN_log)"
   ]
  },
  {
   "cell_type": "markdown",
   "metadata": {},
   "source": [
    "Let's go through these one by one:\n",
    "- `'init'` tells us about the initial state of Θ at the start of training. By default (`'init': None`), MHN initializes training with the \"independence model\" - in which the diagonal entries of Θ are set to the empirical odds and the rest of Θ is empty. Alternatively, users have the option to specify some prior parameterization of Θ using the `set_init_theta()` function.\n",
    "- `'lambda'` shows us the input regularization strength we previously determined through CV.\n",
    "- `'maxit'` is the specified maximum number of gradient steps before the training is automatically terminated (default: 5000). \n",
    "- `'message'` - is the termination message obtained internally from `scipy.optimize.minimize()`. `CONVERGENCE: REL_REDUCTION_OF_F_<=_FACTR*EPSMCH` is the expected value, which means that the optimization terminated successfully due to parameter convergence. In case other values pop up here, the [scipy documentation](https://docs.scipy.org/doc/scipy/reference/generated/scipy.optimize.minimize.html) should be consulted. \n",
    "- `'nit'` tells us about the number of gradient steps taken before termination.\n",
    "- `'reltol'` informs us about the input upper bound for parameter changes that are still considered as converged, see the [scipy documentation](https://docs.scipy.org/doc/scipy/reference/optimize.minimize-bfgs.html#optimize-minimize-bfgs). This parameter can be changed from default (`1e-07`) in the `train()` function but we advise inexperienced users not to do so. \n",
    "- `'score'` informs us about the input data likelihood under the final model. Specifically, it shows the negative logarithm of the sum of likelihoods over all observations (to be minimized during training - the lower, the better). \n",
    "- `'status'` is the termination status of the optimizer. Refer to the [documentation of the scipy `OptimizeResult`](https://docs.scipy.org/doc/scipy/reference/generated/scipy.optimize.OptimizeResult.html#scipy.optimize.OptimizeResult) for more information."
   ]
  },
  {
   "cell_type": "markdown",
   "metadata": {},
   "source": [
    "## Inspecting the Θ-matrix\n",
    "\n",
    "To visualise the main MHN output which details all inferred parameters (i.e., event accumulation rates and rate changes between events), we can simply call `plot()`:"
   ]
  },
  {
   "cell_type": "code",
   "execution_count": 192,
   "metadata": {},
   "outputs": [
    {
     "data": {
      "image/png": "[encoded data removed]",
      "text/plain": [
       "<Figure size 740x555 with 5 Axes>"
      ]
     },
     "metadata": {},
     "output_type": "display_data"
    }
   ],
   "source": [
    "_ = opt.result.plot()"
   ]
  },
  {
   "cell_type": "markdown",
   "metadata": {},
   "source": [
    "By default, `plot()` visualizes the logarithmised form of Θ - this can be changed with `logarithmic = False`. The logarithmic version is also written to file by `save()`. <br><br>\n",
    "\n",
    "The base rates of the events are shown on the left in green.\n",
    "\n",
    "TODO: The matrix on the right in blue and green shows effects between events:\n",
    "A cell in row x and column y shows the (logarithmized) multiplicative effect that presence of event y has on the rate of event x. For example, presence of STK11 increases the rate of KEAP to `e^1.41 = 4.09 = 409%`. Conversely, presence of BRAF decreases the rate of KRAS to `e^-0.69 = 0.50 = 50%`.\n",
    "\n",
    "The bottom row shows the effects on the observation event. For example, presence of TP53 increases the rate of observing the given cancer to `e^0.99 = 2.69 = 269%`. "
   ]
  },
  {
   "cell_type": "markdown",
   "metadata": {},
   "source": [
    "## Reconstructing event orders\n",
    "\n",
    "Based on the learnt paramters, an MHN can \"reconstruct tumor histories\". This means that, for a given set of patient vectors, it can estimate the most probable order in which the patients' events accumulated."
   ]
  },
  {
   "cell_type": "markdown",
   "metadata": {},
   "source": [
    "For getting these estimates for our input dataset, we use the `plot_order_tree` function."
   ]
  },
  {
   "cell_type": "code",
   "execution_count": 198,
   "metadata": {},
   "outputs": [
    {
     "data": {
      "image/png": "[encoded data removed]",
      "text/plain": [
       "<Figure size 640x480 with 1 Axes>"
      ]
     },
     "metadata": {},
     "output_type": "display_data"
    }
   ],
   "source": [
    "opt.result.plot_order_tree(states=input_subset.to_numpy())\n",
    "_ = plt.legend(loc='upper left', bbox_to_anchor=(1, 1))"
   ]
  },
  {
   "cell_type": "markdown",
   "metadata": {},
   "source": [
    "This plot shows all inferred orders of the whole input dataset. All trajectories start at the white circle in the middle. Going outwards, events (encoded by the colorful shapes) are accumulated. The edges of the tree scale by the number of patients that took that path. \n",
    "\n",
    "For example, we see that there were some patients that only have EGFR. Some patients started with TP53 and subsequently got EGFR. None of the patients in the input dataset got KEAP1 first."
   ]
  },
  {
   "cell_type": "markdown",
   "metadata": {},
   "source": [
    "## Simulating artificial data from a MHN\n",
    "\n",
    "Now, let us use the trained MHN to generate artificial data, both with and without keeping track of the event order."
   ]
  },
  {
   "cell_type": "markdown",
   "metadata": {},
   "source": [
    "Let's start with unordered simulations. The output is a binary matrix, just like the data that we trained the MHN on."
   ]
  },
  {
   "cell_type": "code",
   "execution_count": 208,
   "metadata": {},
   "outputs": [
    {
     "name": "stdout",
     "output_type": "stream",
     "text": [
      "oMHN simulations:\n"
     ]
    },
    {
     "data": {
      "text/html": [
       "<div>\n",
       "<style scoped>\n",
       "    .dataframe tbody tr th:only-of-type {\n",
       "        vertical-align: middle;\n",
       "    }\n",
       "\n",
       "    .dataframe tbody tr th {\n",
       "        vertical-align: top;\n",
       "    }\n",
       "\n",
       "    .dataframe thead th {\n",
       "        text-align: right;\n",
       "    }\n",
       "</style>\n",
       "<table border=\"1\" class=\"dataframe\">\n",
       "  <thead>\n",
       "    <tr style=\"text-align: right;\">\n",
       "      <th></th>\n",
       "      <th>TP53</th>\n",
       "      <th>KRAS</th>\n",
       "      <th>EGFR</th>\n",
       "      <th>STK11</th>\n",
       "      <th>RBM10</th>\n",
       "      <th>KEAP1</th>\n",
       "      <th>ATM</th>\n",
       "      <th>SMARCA4</th>\n",
       "      <th>PTPRD</th>\n",
       "      <th>NF1</th>\n",
       "      <th>PIK3CA</th>\n",
       "      <th>BRAF</th>\n",
       "    </tr>\n",
       "  </thead>\n",
       "  <tbody>\n",
       "    <tr>\n",
       "      <th>0</th>\n",
       "      <td>1</td>\n",
       "      <td>1</td>\n",
       "      <td>0</td>\n",
       "      <td>1</td>\n",
       "      <td>0</td>\n",
       "      <td>1</td>\n",
       "      <td>0</td>\n",
       "      <td>0</td>\n",
       "      <td>0</td>\n",
       "      <td>0</td>\n",
       "      <td>0</td>\n",
       "      <td>0</td>\n",
       "    </tr>\n",
       "    <tr>\n",
       "      <th>1</th>\n",
       "      <td>0</td>\n",
       "      <td>0</td>\n",
       "      <td>1</td>\n",
       "      <td>0</td>\n",
       "      <td>0</td>\n",
       "      <td>0</td>\n",
       "      <td>0</td>\n",
       "      <td>0</td>\n",
       "      <td>0</td>\n",
       "      <td>0</td>\n",
       "      <td>0</td>\n",
       "      <td>0</td>\n",
       "    </tr>\n",
       "    <tr>\n",
       "      <th>2</th>\n",
       "      <td>0</td>\n",
       "      <td>0</td>\n",
       "      <td>0</td>\n",
       "      <td>0</td>\n",
       "      <td>0</td>\n",
       "      <td>1</td>\n",
       "      <td>0</td>\n",
       "      <td>1</td>\n",
       "      <td>0</td>\n",
       "      <td>0</td>\n",
       "      <td>0</td>\n",
       "      <td>0</td>\n",
       "    </tr>\n",
       "    <tr>\n",
       "      <th>3</th>\n",
       "      <td>0</td>\n",
       "      <td>0</td>\n",
       "      <td>0</td>\n",
       "      <td>0</td>\n",
       "      <td>0</td>\n",
       "      <td>0</td>\n",
       "      <td>0</td>\n",
       "      <td>0</td>\n",
       "      <td>0</td>\n",
       "      <td>0</td>\n",
       "      <td>0</td>\n",
       "      <td>0</td>\n",
       "    </tr>\n",
       "    <tr>\n",
       "      <th>4</th>\n",
       "      <td>1</td>\n",
       "      <td>0</td>\n",
       "      <td>0</td>\n",
       "      <td>1</td>\n",
       "      <td>0</td>\n",
       "      <td>0</td>\n",
       "      <td>0</td>\n",
       "      <td>0</td>\n",
       "      <td>0</td>\n",
       "      <td>0</td>\n",
       "      <td>0</td>\n",
       "      <td>0</td>\n",
       "    </tr>\n",
       "  </tbody>\n",
       "</table>\n",
       "</div>"
      ],
      "text/plain": [
       "   TP53  KRAS  EGFR  STK11  RBM10  KEAP1  ATM  SMARCA4  PTPRD  NF1  PIK3CA  \\\n",
       "0     1     1     0      1      0      1    0        0      0    0       0   \n",
       "1     0     0     1      0      0      0    0        0      0    0       0   \n",
       "2     0     0     0      0      0      1    0        1      0    0       0   \n",
       "3     0     0     0      0      0      0    0        0      0    0       0   \n",
       "4     1     0     0      1      0      0    0        0      0    0       0   \n",
       "\n",
       "   BRAF  \n",
       "0     0  \n",
       "1     0  \n",
       "2     0  \n",
       "3     0  \n",
       "4     0  "
      ]
     },
     "execution_count": 208,
     "metadata": {},
     "output_type": "execute_result"
    }
   ],
   "source": [
    "# simulate 500 samples for MHN\n",
    "np.random.seed(6)\n",
    "sim_observations = opt.result.sample_artificial_data(\n",
    "    500, as_dataframe=True)\n",
    "print(\"oMHN simulations:\")\n",
    "sim_observations.head()"
   ]
  },
  {
   "cell_type": "markdown",
   "metadata": {},
   "source": [
    "Next, let's simulate some ordered data. With this, we can for example assess the probability of observing a certain event A before another event B.\n",
    "\n",
    "To answer this question, we simply\n",
    "1. Simulate ordered observations\n",
    "2. Condition the output to those who have both A and B\n",
    "3. Under the condition, calculate the fraction of trajectories where A preceded B"
   ]
  },
  {
   "cell_type": "code",
   "execution_count": 209,
   "metadata": {},
   "outputs": [
    {
     "name": "stdout",
     "output_type": "stream",
     "text": [
      "MHN: simulation-derived P(EGFR before TP53 | EGFR, TP53 present): 0.32614357805632427\n"
     ]
    }
   ],
   "source": [
    "np.random.seed(6)\n",
    "\n",
    "# simulate from cMHN\n",
    "trajectories, times = opt.result.sample_trajectories(\n",
    "    100000, [], output_event_names=True)\n",
    "\n",
    "# condition on trajectories which contain KRAS and TP53\n",
    "indices = np.array([i for i, trajectory in enumerate(\n",
    "    trajectories) if 'EGFR' in trajectory and 'TP53' in trajectory])\n",
    "conditioned_trajectories = [trajectories[index] for index in indices]\n",
    "\n",
    "# of those, count in how many KRAS preceded TP53 and then get the fraction\n",
    "count_EGFR_first = sum(trajectory.index('EGFR') < trajectory.index(\n",
    "    'TP53') for trajectory in conditioned_trajectories)\n",
    "fraction_EGFR_first = count_EGFR_first / len(conditioned_trajectories)\n",
    "\n",
    "print(\"MHN: simulation-derived P(EGFR before TP53 | EGFR, TP53 present):\",\n",
    "      fraction_EGFR_first)"
   ]
  },
  {
   "cell_type": "markdown",
   "metadata": {},
   "source": [
    "We can see that MHN samples trajectories where either KRAS or TP53 can come first. However, it suggests that TP53 tends to come first."
   ]
  },
  {
   "cell_type": "markdown",
   "metadata": {},
   "source": [
    "## Predicting the next event for a given MHN state\n",
    "\n",
    "In principle, MHNs are capable of estimating the future progression of any state represented by a given MHN. For instance, simulations with non-empty starting states could be used. Additionally, we have implemented a convenience function that, for a given state, returns the probabilities for all possible next events. <br> <br>\n",
    "\n",
    "To predict the next event for a state that already has KRAS and STK11, we'll give the function an array which is all zeroes apart from the respective columns. Let's check which indices we need:"
   ]
  },
  {
   "cell_type": "code",
   "execution_count": 196,
   "metadata": {},
   "outputs": [
    {
     "name": "stdout",
     "output_type": "stream",
     "text": [
      "Index(['TP53', 'KRAS', 'EGFR', 'STK11', 'RBM10', 'KEAP1', 'ATM', 'SMARCA4',\n",
      "       'PTPRD', 'NF1', 'PIK3CA', 'BRAF'],\n",
      "      dtype='object')\n"
     ]
    }
   ],
   "source": [
    "print(input_subset.columns)"
   ]
  },
  {
   "cell_type": "markdown",
   "metadata": {},
   "source": [
    "We need the second and fourth entry to be 1, all others be 0. The function can output a simple array, or a dataframe that also contains event names (controlled with `as_dataframe=True`). Further, we can treat the state as unobserved, so that observation itself is also a legitimate next event (controlled with `allow_observation=True`)"
   ]
  },
  {
   "cell_type": "code",
   "execution_count": 197,
   "metadata": {},
   "outputs": [
    {
     "name": "stdout",
     "output_type": "stream",
     "text": [
      "next event predictions:\n",
      "                PROBS\n",
      "TP53         0.105461\n",
      "KRAS         0.000000\n",
      "EGFR         0.003416\n",
      "STK11        0.000000\n",
      "RBM10        0.064608\n",
      "KEAP1        0.136775\n",
      "ATM          0.052897\n",
      "SMARCA4      0.038797\n",
      "PTPRD        0.026006\n",
      "NF1          0.015307\n",
      "PIK3CA       0.021722\n",
      "BRAF         0.012659\n",
      "Observation  0.522351\n"
     ]
    }
   ],
   "source": [
    "# specify state of interest\n",
    "state_of_interest = np.array(\n",
    "    [0, 1, 0, 1, 0, 0, 0, 0, 0, 0, 0, 0], dtype=np.int32)\n",
    "\n",
    "# get the cMHN predictions, this time with possible observation\n",
    "predictions = opt.result.compute_next_event_probs(\n",
    "    state_of_interest, as_dataframe=True, allow_observation=True)\n",
    "\n",
    "# show\n",
    "print(\"next event predictions:\")\n",
    "print(predictions)"
   ]
  },
  {
   "cell_type": "markdown",
   "metadata": {},
   "source": [
    "We can see that MHN favors KEAP1 as possible next event, although it is generally quite rare. This is because it learned a positive interaction between STK11 and KEAP1. TP53 is the next most likely event (excluding observation). EGFR is estimated as unlikely to follow, although it is generally quite frequent. This is because the model learned a negative interaction between KRAS and EGFR. "
   ]
  }
 ],
 "metadata": {
  "kernelspec": {
   "display_name": "mhn_env",
   "language": "python",
   "name": "python3"
  },
  "language_info": {
   "codemirror_mode": {
    "name": "ipython",
    "version": 3
   },
   "file_extension": ".py",
   "mimetype": "text/x-python",
   "name": "python",
   "nbconvert_exporter": "python",
   "pygments_lexer": "ipython3",
   "version": "3.11.9"
  }
 },
 "nbformat": 4,
 "nbformat_minor": 4
}
